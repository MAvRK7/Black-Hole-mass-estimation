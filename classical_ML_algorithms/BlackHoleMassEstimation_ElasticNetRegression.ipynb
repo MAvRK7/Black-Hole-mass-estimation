{
  "nbformat": 4,
  "nbformat_minor": 0,
  "metadata": {
    "colab": {
      "provenance": []
    },
    "kernelspec": {
      "name": "python3",
      "display_name": "Python 3"
    },
    "language_info": {
      "name": "python"
    }
  },
  "cells": [
    {
      "cell_type": "markdown",
      "source": [
        "# **Classical Algorithm : Elastic Net Regression**"
      ],
      "metadata": {
        "id": "jh3tfXBEJdse"
      }
    },
    {
      "cell_type": "code",
      "source": [
        "import pandas as pd\n",
        "import numpy as np\n",
        "from sklearn.model_selection import train_test_split, KFold\n",
        "from sklearn.preprocessing import StandardScaler\n",
        "from sklearn.linear_model import ElasticNet\n",
        "from sklearn.metrics import r2_score, mean_absolute_error, mean_squared_error\n",
        "import matplotlib.pyplot as plt"
      ],
      "metadata": {
        "id": "x7t4hww2JqAG"
      },
      "execution_count": null,
      "outputs": []
    },
    {
      "cell_type": "code",
      "source": [
        "# 1. Mount the dataset\n",
        "# Assuming the dataset is in a CSV file, replace the path with the actual path\n",
        "dataset_path = '/content/drive/MyDrive/MiniProject_BlackHoleMassEstimation/typeII_AGN_metadata.csv'\n",
        "data = pd.read_csv(dataset_path)"
      ],
      "metadata": {
        "id": "o8GhWvCCJsxc"
      },
      "execution_count": null,
      "outputs": []
    },
    {
      "cell_type": "code",
      "source": [
        "# 2. Define target and feature columns\n",
        "target_column = 'log_bh_mass'\n",
        "feature_columns = [\n",
        "    'h_beta_flux', 'h_beta_flux_err', 'oiii_5007_flux', 'oiii_5007_flux_err',\n",
        "    'h_alpha_flux', 'h_alpha_flux_err', 'nii_6584_flux', 'nii_6584_flux_err',\n",
        "    'log_stellar_sigma', 'psfMag_u', 'psfMag_g', 'psfMag_r', 'psfMag_i',\n",
        "    'psfMag_z', 'psfMagErr_u', 'psfMagErr_g', 'psfMagErr_r', 'psfMagErr_i',\n",
        "    'psfMagErr_z', 'mendel_logM_p50', 'mendel_logM_p16', 'mendel_logM_p84',\n",
        "    'mendel_logMt_p50', 'mendel_logMt_p16', 'mendel_logMt_p84', 'mendel_logMb_p50',\n",
        "    'mendel_logMb_p16', 'mendel_logMb_p84', 'mendel_logMd_p50', 'mendel_logMd_p16',\n",
        "    'mendel_logMd_p84', 'simard_b_t_g', 'simard_e_b_t_g', 'simard_b_t_r', 'simard_e_b_t_r',\n",
        "    'simard_Rhlg', 'simard_Rhlr', 'simard_Rchl_g', 'simard_Rchl_r', 'simard_Re',\n",
        "    'simard_e_Re', 'simard_e', 'simard_e_e', 'simard_nb', 'simard_e_nb', 'simard_PpS',\n",
        "    'simard_Pn4'\n",
        "]"
      ],
      "metadata": {
        "id": "t-LI9sLPJvgE"
      },
      "execution_count": null,
      "outputs": []
    },
    {
      "cell_type": "code",
      "source": [
        "# 6. Handling Missing/ NaN values with the mean of the column for the target and features column\n",
        "data.fillna(data.mean(), inplace=True)\n",
        "\n",
        "# 3. Normalize the features\n",
        "scaler = StandardScaler()\n",
        "data[feature_columns] = scaler.fit_transform(data[feature_columns])\n",
        "\n",
        "X = data[feature_columns]\n",
        "y = data[target_column]"
      ],
      "metadata": {
        "id": "DHWxxtJtJyzG"
      },
      "execution_count": null,
      "outputs": []
    },
    {
      "cell_type": "code",
      "source": [
        "# 5. Run the algorithms with 5-fold validation with 80:20 train-test\n",
        "kf = KFold(n_splits=5, shuffle=True, random_state=42)\n",
        "r2_scores, mae_scores, rmse_scores, mse_scores = [], [], [], []\n",
        "\n",
        "for train_index, test_index in kf.split(X):\n",
        "    X_train, X_test = X.iloc[train_index], X.iloc[test_index]\n",
        "    y_train, y_test = y.iloc[train_index], y.iloc[test_index]\n",
        "\n",
        "    model = ElasticNet(random_state=42)\n",
        "    model.fit(X_train, y_train)\n",
        "    y_pred = model.predict(X_test)\n",
        "\n",
        "    r2_scores.append(r2_score(y_test, y_pred))\n",
        "    mae_scores.append(mean_absolute_error(y_test, y_pred))\n",
        "    mse_scores.append(mean_squared_error(y_test, y_pred))\n",
        "    rmse_scores.append(np.sqrt(mean_squared_error(y_test, y_pred)))"
      ],
      "metadata": {
        "id": "xmRwQdGPJ2d1"
      },
      "execution_count": null,
      "outputs": []
    },
    {
      "cell_type": "code",
      "source": [
        "# Calculate mean and standard deviation for each error metric\n",
        "r2_mean, r2_std = np.mean(r2_scores), np.std(r2_scores)\n",
        "mae_mean, mae_std = np.mean(mae_scores), np.std(mae_scores)\n",
        "mse_mean, mse_std = np.mean(mse_scores), np.std(mse_scores)\n",
        "rmse_mean, rmse_std = np.mean(rmse_scores), np.std(rmse_scores)\n",
        "\n",
        "# Calculate accuracy by error\n",
        "range_of_y = y.max() - y.min()\n",
        "mae_accuracy = (1 - mae_mean / range_of_y) * 100\n",
        "mse_accuracy = (1 - mse_mean / range_of_y) * 100\n",
        "rmse_accuracy = (1 - rmse_mean / range_of_y) * 100"
      ],
      "metadata": {
        "id": "cUhot1uqJ5oV"
      },
      "execution_count": null,
      "outputs": []
    },
    {
      "cell_type": "code",
      "source": [
        "# Print error metrics\n",
        "print(f'R²: {r2_mean:.4f} ± {r2_std:.4f}')\n",
        "print(f'MAE: {mae_mean:.4f} ± {mae_std:.4f}, Accuracy: {mae_accuracy:.2f}%')\n",
        "print(f'MSE: {mse_mean:.4f} ± {mse_std:.4f}, Accuracy: {mse_accuracy:.2f}%')\n",
        "print(f'RMSE: {rmse_mean:.4f} ± {rmse_std:.4f}, Accuracy: {rmse_accuracy:.2f}%')"
      ],
      "metadata": {
        "colab": {
          "base_uri": "https://localhost:8080/"
        },
        "id": "am1tVixiJ7_1",
        "outputId": "5a329a94-8067-44e8-d712-fd8e185a65d0"
      },
      "execution_count": null,
      "outputs": [
        {
          "output_type": "stream",
          "name": "stdout",
          "text": [
            "R²: -0.0002 ± 0.0003\n",
            "MAE: 0.4954 ± 0.0039, Accuracy: 90.18%\n",
            "MSE: 0.4052 ± 0.0053, Accuracy: 91.96%\n",
            "RMSE: 0.6365 ± 0.0042, Accuracy: 87.38%\n"
          ]
        }
      ]
    }
  ]
}