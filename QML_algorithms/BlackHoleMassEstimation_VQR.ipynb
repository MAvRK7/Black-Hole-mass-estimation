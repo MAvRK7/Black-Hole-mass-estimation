{
  "cells": [
    {
      "cell_type": "code",
      "execution_count": null,
      "id": "db4c97b5-eeba-45d2-88fb-ead758e26561",
      "metadata": {
        "id": "db4c97b5-eeba-45d2-88fb-ead758e26561",
        "outputId": "5d23d4fc-8f9c-4130-e72d-ff6965d5ec68"
      },
      "outputs": [
        {
          "name": "stdout",
          "output_type": "stream",
          "text": [
            "Requirement already satisfied: qiskit in c:\\users\\satvik\\anaconda3\\lib\\site-packages (1.2.0)\n",
            "Requirement already satisfied: qiskit-machine-learning in c:\\users\\satvik\\anaconda3\\lib\\site-packages (0.7.2)\n",
            "Requirement already satisfied: rustworkx>=0.15.0 in c:\\users\\satvik\\anaconda3\\lib\\site-packages (from qiskit) (0.15.1)\n",
            "Requirement already satisfied: numpy<3,>=1.17 in c:\\users\\satvik\\anaconda3\\lib\\site-packages (from qiskit) (1.26.4)\n",
            "Requirement already satisfied: scipy>=1.5 in c:\\users\\satvik\\anaconda3\\lib\\site-packages (from qiskit) (1.13.1)\n",
            "Requirement already satisfied: sympy>=1.3 in c:\\users\\satvik\\anaconda3\\lib\\site-packages (from qiskit) (1.12)\n",
            "Requirement already satisfied: dill>=0.3 in c:\\users\\satvik\\anaconda3\\lib\\site-packages (from qiskit) (0.3.8)\n",
            "Requirement already satisfied: python-dateutil>=2.8.0 in c:\\users\\satvik\\anaconda3\\lib\\site-packages (from qiskit) (2.9.0.post0)\n",
            "Requirement already satisfied: stevedore>=3.0.0 in c:\\users\\satvik\\anaconda3\\lib\\site-packages (from qiskit) (5.2.0)\n",
            "Requirement already satisfied: typing-extensions in c:\\users\\satvik\\anaconda3\\lib\\site-packages (from qiskit) (4.11.0)\n",
            "Requirement already satisfied: symengine>=0.11 in c:\\users\\satvik\\anaconda3\\lib\\site-packages (from qiskit) (0.11.0)\n",
            "Requirement already satisfied: qiskit-algorithms>=0.2.0 in c:\\users\\satvik\\anaconda3\\lib\\site-packages (from qiskit-machine-learning) (0.3.0)\n",
            "Requirement already satisfied: psutil>=5 in c:\\users\\satvik\\anaconda3\\lib\\site-packages (from qiskit-machine-learning) (5.9.0)\n",
            "Requirement already satisfied: scikit-learn>=1.2.0 in c:\\users\\satvik\\anaconda3\\lib\\site-packages (from qiskit-machine-learning) (1.4.2)\n",
            "Requirement already satisfied: fastdtw in c:\\users\\satvik\\anaconda3\\lib\\site-packages (from qiskit-machine-learning) (0.3.4)\n",
            "Requirement already satisfied: setuptools>=40.1.0 in c:\\users\\satvik\\anaconda3\\lib\\site-packages (from qiskit-machine-learning) (69.5.1)\n",
            "Requirement already satisfied: six>=1.5 in c:\\users\\satvik\\anaconda3\\lib\\site-packages (from python-dateutil>=2.8.0->qiskit) (1.16.0)\n",
            "Requirement already satisfied: joblib>=1.2.0 in c:\\users\\satvik\\anaconda3\\lib\\site-packages (from scikit-learn>=1.2.0->qiskit-machine-learning) (1.4.2)\n",
            "Requirement already satisfied: threadpoolctl>=2.0.0 in c:\\users\\satvik\\anaconda3\\lib\\site-packages (from scikit-learn>=1.2.0->qiskit-machine-learning) (2.2.0)\n",
            "Requirement already satisfied: pbr!=2.1.0,>=2.0.0 in c:\\users\\satvik\\anaconda3\\lib\\site-packages (from stevedore>=3.0.0->qiskit) (6.0.0)\n",
            "Requirement already satisfied: mpmath>=0.19 in c:\\users\\satvik\\anaconda3\\lib\\site-packages (from sympy>=1.3->qiskit) (1.3.0)\n",
            "Note: you may need to restart the kernel to use updated packages.\n"
          ]
        }
      ],
      "source": [
        "pip install qiskit qiskit-machine-learning"
      ]
    },
    {
      "cell_type": "code",
      "execution_count": null,
      "id": "df62812c-fc38-4770-87e0-2953a75d737d",
      "metadata": {
        "id": "df62812c-fc38-4770-87e0-2953a75d737d"
      },
      "outputs": [],
      "source": [
        "import numpy as np\n",
        "import pandas as pd\n",
        "from sklearn.model_selection import train_test_split\n",
        "from sklearn.preprocessing import StandardScaler\n",
        "from sklearn.preprocessing import MinMaxScaler\n",
        "from sklearn.model_selection import KFold\n",
        "from sklearn.decomposition import PCA\n",
        "from sklearn.metrics import mean_squared_error, mean_absolute_error, r2_score\n",
        "from qiskit import QuantumCircuit\n",
        "from qiskit.circuit.library import ZZFeatureMap, RealAmplitudes\n",
        "from qiskit_machine_learning.circuit.library import QNNCircuit\n",
        "from qiskit_machine_learning.algorithms import VQR\n",
        "import matplotlib.pyplot as plt\n",
        "from qiskit_algorithms.optimizers import COBYLA, L_BFGS_B"
      ]
    },
    {
      "cell_type": "code",
      "execution_count": null,
      "id": "034ce42e-8283-4c84-b716-4dc55f315a92",
      "metadata": {
        "id": "034ce42e-8283-4c84-b716-4dc55f315a92",
        "outputId": "7b7a6254-f69e-4611-8fb2-3bf4c916cc17"
      },
      "outputs": [
        {
          "name": "stderr",
          "output_type": "stream",
          "text": [
            "C:\\Users\\Satvik\\AppData\\Local\\Temp\\ipykernel_5968\\3253278453.py:26: SettingWithCopyWarning: \n",
            "A value is trying to be set on a copy of a slice from a DataFrame\n",
            "\n",
            "See the caveats in the documentation: https://pandas.pydata.org/pandas-docs/stable/user_guide/indexing.html#returning-a-view-versus-a-copy\n",
            "  X.fillna(X.mean(), inplace=True)\n"
          ]
        }
      ],
      "source": [
        "# 1. Mount the dataset\n",
        "dataset_path = r\"C:\\Users\\Satvik\\Downloads\\typeII_AGN_metadata.csv\"  # Update the path as needed\n",
        "data = pd.read_csv(dataset_path)\n",
        "\n",
        "# 2. Define the target and feature columns\n",
        "target_column = 'log_bh_mass'\n",
        "feature_columns = [\n",
        "    'h_beta_flux', 'h_beta_flux_err', 'oiii_5007_flux', 'oiii_5007_flux_err', 'h_alpha_flux',\n",
        "    'h_alpha_flux_err', 'nii_6584_flux', 'nii_6584_flux_err', 'log_stellar_sigma',\n",
        "    'psfMag_u', 'psfMag_g', 'psfMag_r', 'psfMag_i', 'psfMag_z',\n",
        "    'psfMagErr_u', 'psfMagErr_g', 'psfMagErr_r', 'psfMagErr_i', 'psfMagErr_z',\n",
        "    'mendel_logM_p50', 'mendel_logM_p16', 'mendel_logM_p84',\n",
        "    'mendel_logMt_p50', 'mendel_logMt_p16', 'mendel_logMt_p84',\n",
        "    'mendel_logMb_p50', 'mendel_logMb_p16', 'mendel_logMb_p84',\n",
        "    'mendel_logMd_p50', 'mendel_logMd_p16', 'mendel_logMd_p84',\n",
        "    'simard_b_t_g', 'simard_e_b_t_g', 'simard_b_t_r', 'simard_e_b_t_r',\n",
        "    'simard_Rhlg', 'simard_Rhlr', 'simard_Rchl_g', 'simard_Rchl_r',\n",
        "    'simard_Re', 'simard_e_Re', 'simard_e', 'simard_e_e',\n",
        "    'simard_nb', 'simard_e_nb', 'simard_PpS', 'simard_Pn4'\n",
        "]\n",
        "\n",
        "X = data[feature_columns]\n",
        "y = data[target_column]\n",
        "\n",
        "# 6. Handle missing values by replacing them with the mean of the column\n",
        "X.fillna(X.mean(), inplace=True)\n",
        "y.fillna(y.mean(), inplace=True)\n",
        "\n",
        "# 3. Normalize the features using Min-Max normalization\n",
        "scaler_X = MinMaxScaler()\n",
        "X_scaled = scaler_X.fit_transform(X)\n",
        "\n",
        "# Normalize the target using Min-Max normalization\n",
        "scaler_y = MinMaxScaler()\n",
        "y_scaled = scaler_y.fit_transform(y.values.reshape(-1, 1)).flatten()  # Flatten to make it a 1D array\n",
        "\n",
        "# 7. Reduce the number of features using PCA (retain the number of components as 4)\n",
        "pca = PCA(n_components=4)\n",
        "X_pca = pca.fit_transform(X_scaled)\n",
        "\n",
        "# 9. Perform 3-fold cross-validation\n",
        "kf = KFold(n_splits=3, shuffle=True, random_state=42)\n",
        "\n",
        "mse_scores = []\n",
        "mae_scores = []\n",
        "r2_scores = []\n",
        "rmse_scores = []\n",
        "\n",
        "accuracy_mae_scores = []\n",
        "accuracy_mse_scores = []\n",
        "accuracy_rmse_scores = []\n",
        "\n",
        "for train_index, test_index in kf.split(X_pca):\n",
        "    X_train, X_test = X_pca[train_index], X_pca[test_index]\n",
        "    y_train, y_test = y_scaled[train_index], y_scaled[test_index]\n",
        "\n",
        "    # 4. Define the quantum circuit\n",
        "    num_qubits = 4  # Set number of qubits to 4\n",
        "    feature_map = ZZFeatureMap(feature_dimension=num_qubits)\n",
        "    ansatz = RealAmplitudes(num_qubits=num_qubits, reps=2)  # Increased repetitions for more complexity\n",
        "\n",
        "    # 4. Define the VQR model with COBYLA optimizer\n",
        "    vqr = VQR(\n",
        "        num_qubits=num_qubits,\n",
        "        feature_map=feature_map,\n",
        "        optimizer=COBYLA(maxiter=100),  # Increased number of iterations\n",
        "        ansatz=ansatz\n",
        "    )\n",
        "\n",
        "    # 4. Fit the model\n",
        "    vqr.fit(X_train, y_train)\n",
        "\n",
        "    # 8. Make predictions and evaluate the model\n",
        "    y_pred = vqr.predict(X_test)\n",
        "\n",
        "    # Calculate evaluation metrics for this fold\n",
        "    mse = mean_squared_error(y_test, y_pred)\n",
        "    mae = mean_absolute_error(y_test, y_pred)\n",
        "    r2 = r2_score(y_test, y_pred)\n",
        "    rmse = np.sqrt(mse)\n",
        "\n",
        "    mse_scores.append(mse)\n",
        "    mae_scores.append(mae)\n",
        "    r2_scores.append(r2)\n",
        "    rmse_scores.append(rmse)\n",
        "\n",
        "    # Calculate accuracy based on error metrics\n",
        "    accuracy_mae = 100 * (1 - mae / np.mean(y_test))\n",
        "    accuracy_mse = 100 * (1 - mse / np.mean(y_test**2))\n",
        "    accuracy_rmse = 100 * (1 - rmse / np.mean(y_test))\n",
        "\n",
        "    accuracy_mae_scores.append(accuracy_mae)\n",
        "    accuracy_mse_scores.append(accuracy_mse)\n",
        "    accuracy_rmse_scores.append(accuracy_rmse)"
      ]
    },
    {
      "cell_type": "code",
      "execution_count": null,
      "id": "8806b016-2c48-4920-835e-4e44fd413838",
      "metadata": {
        "id": "8806b016-2c48-4920-835e-4e44fd413838",
        "outputId": "b387194e-aab9-447b-e296-a9d1475e3274"
      },
      "outputs": [
        {
          "name": "stdout",
          "output_type": "stream",
          "text": [
            "Mean Squared Error: 0.11269172221345579\n",
            "Mean Absolute Error: 0.26955648945877614\n",
            "R2 Score: -6.058557493229119\n",
            "Root Mean Squared Error: 0.33499827467690685\n",
            "\n",
            "Accuracy based on MAE: 41.74%\n",
            "Accuracy based on MSE: 51.01%\n",
            "Accuracy based on RMSE: 27.60%\n"
          ]
        }
      ],
      "source": [
        "# Display the results\n",
        "print(\"Mean Squared Error:\", np.mean(mse_scores))\n",
        "print(\"Mean Absolute Error:\", np.mean(mae_scores))\n",
        "print(\"R2 Score:\", np.mean(r2_scores))\n",
        "print(\"Root Mean Squared Error:\", np.mean(rmse_scores))\n",
        "\n",
        "# Display the accuracy results\n",
        "print(\"\\nAccuracy based on MAE: {:.2f}%\".format(np.mean(accuracy_mae_scores)))\n",
        "print(\"Accuracy based on MSE: {:.2f}%\".format(np.mean(accuracy_mse_scores)))\n",
        "print(\"Accuracy based on RMSE: {:.2f}%\".format(np.mean(accuracy_rmse_scores)))"
      ]
    },
    {
      "cell_type": "code",
      "execution_count": null,
      "id": "cbf41e20-fc02-4316-9915-9a8fa51a6186",
      "metadata": {
        "id": "cbf41e20-fc02-4316-9915-9a8fa51a6186"
      },
      "outputs": [],
      "source": []
    }
  ],
  "metadata": {
    "kernelspec": {
      "display_name": "Python 3 (ipykernel)",
      "language": "python",
      "name": "python3"
    },
    "language_info": {
      "codemirror_mode": {
        "name": "ipython",
        "version": 3
      },
      "file_extension": ".py",
      "mimetype": "text/x-python",
      "name": "python",
      "nbconvert_exporter": "python",
      "pygments_lexer": "ipython3",
      "version": "3.12.4"
    },
    "colab": {
      "provenance": []
    }
  },
  "nbformat": 4,
  "nbformat_minor": 5
}